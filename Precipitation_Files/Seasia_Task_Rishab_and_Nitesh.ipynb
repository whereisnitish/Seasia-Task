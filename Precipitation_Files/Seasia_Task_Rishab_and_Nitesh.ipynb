{
  "nbformat": 4,
  "nbformat_minor": 0,
  "metadata": {
    "colab": {
      "provenance": []
    },
    "kernelspec": {
      "name": "python3",
      "display_name": "Python 3"
    },
    "language_info": {
      "name": "python"
    }
  },
  "cells": [
    {
      "cell_type": "code",
      "source": [
        "import netCDF4"
      ],
      "metadata": {
        "id": "X3DPgiSMIrfT"
      },
      "execution_count": 19,
      "outputs": []
    },
    {
      "cell_type": "code",
      "source": [
        "import numpy as np"
      ],
      "metadata": {
        "id": "mx0zeMn2JiDA"
      },
      "execution_count": 102,
      "outputs": []
    },
    {
      "cell_type": "code",
      "execution_count": 166,
      "metadata": {
        "colab": {
          "base_uri": "https://localhost:8080/"
        },
        "id": "kM3cWn9JVmLW",
        "outputId": "99fdc57e-2ac2-4a0e-ed03-133859ae0a18"
      },
      "outputs": [
        {
          "output_type": "stream",
          "name": "stdout",
          "text": [
            "total # of tables 2\n",
            "[2.0 '70 mb' 'HGT' '6 hour fcst' 'Geopotential Height [gpm]']\n",
            "   2.0   70 mb   HGT  6 hour fcst  Geopotential Height [gpm]\n",
            "0  3.0   70 mb   TMP  6 hour fcst            Temperature [K]\n",
            "1  4.1   70 mb  UGRD  6 hour fcst  U-Component of Wind [m/s]\n",
            "2  4.2   70 mb  VGRD  6 hour fcst  V-Component of Wind [m/s]\n",
            "3  5.0  100 mb   HGT  6 hour fcst  Geopotential Height [gpm]\n",
            "4  6.0  100 mb   TMP  6 hour fcst            Temperature [K]\n"
          ]
        }
      ],
      "source": [
        "import pandas as pd\n",
        "\n",
        "url = \"https://www.nco.ncep.noaa.gov/pmb/products/gfs/wafsgfs44.t00z.gribf06.grib2.shtml\"\n",
        "\n",
        "htmlPage = pd.read_html(url)\n",
        "\n",
        "# print(htmlPage)\n",
        "print(f\"total # of tables {len(htmlPage)}\")\n",
        "\n",
        "\n",
        "df = htmlPage[1]\n",
        "columns = df.iloc[1, :].values\n",
        "print(columns)\n",
        "\n",
        "dict_list = []\n",
        "for idx in range(2, df.shape[0]-3):\n",
        "    _dict = {}\n",
        "    for icol, col in enumerate(columns):\n",
        "        _dict.update({col: df.iloc[idx, icol]})\n",
        "    dict_list.append(_dict)\n",
        "\n",
        "f = pd.DataFrame(dict_list)\n",
        "print(f.head())"
      ]
    },
    {
      "cell_type": "code",
      "source": [
        "f.head()"
      ],
      "metadata": {
        "colab": {
          "base_uri": "https://localhost:8080/",
          "height": 206
        },
        "id": "CkbagAEjWZaZ",
        "outputId": "1e051c9f-c21d-4675-ce95-416e74b2b77d"
      },
      "execution_count": 167,
      "outputs": [
        {
          "output_type": "execute_result",
          "data": {
            "text/plain": [
              "   2.0   70 mb   HGT  6 hour fcst  Geopotential Height [gpm]\n",
              "0  3.0   70 mb   TMP  6 hour fcst            Temperature [K]\n",
              "1  4.1   70 mb  UGRD  6 hour fcst  U-Component of Wind [m/s]\n",
              "2  4.2   70 mb  VGRD  6 hour fcst  V-Component of Wind [m/s]\n",
              "3  5.0  100 mb   HGT  6 hour fcst  Geopotential Height [gpm]\n",
              "4  6.0  100 mb   TMP  6 hour fcst            Temperature [K]"
            ],
            "text/html": [
              "\n",
              "  <div id=\"df-77997582-0aed-4b68-958c-3573805c957a\">\n",
              "    <div class=\"colab-df-container\">\n",
              "      <div>\n",
              "<style scoped>\n",
              "    .dataframe tbody tr th:only-of-type {\n",
              "        vertical-align: middle;\n",
              "    }\n",
              "\n",
              "    .dataframe tbody tr th {\n",
              "        vertical-align: top;\n",
              "    }\n",
              "\n",
              "    .dataframe thead th {\n",
              "        text-align: right;\n",
              "    }\n",
              "</style>\n",
              "<table border=\"1\" class=\"dataframe\">\n",
              "  <thead>\n",
              "    <tr style=\"text-align: right;\">\n",
              "      <th></th>\n",
              "      <th>2.0</th>\n",
              "      <th>70 mb</th>\n",
              "      <th>HGT</th>\n",
              "      <th>6 hour fcst</th>\n",
              "      <th>Geopotential Height [gpm]</th>\n",
              "    </tr>\n",
              "  </thead>\n",
              "  <tbody>\n",
              "    <tr>\n",
              "      <th>0</th>\n",
              "      <td>3.0</td>\n",
              "      <td>70 mb</td>\n",
              "      <td>TMP</td>\n",
              "      <td>6 hour fcst</td>\n",
              "      <td>Temperature [K]</td>\n",
              "    </tr>\n",
              "    <tr>\n",
              "      <th>1</th>\n",
              "      <td>4.1</td>\n",
              "      <td>70 mb</td>\n",
              "      <td>UGRD</td>\n",
              "      <td>6 hour fcst</td>\n",
              "      <td>U-Component of Wind [m/s]</td>\n",
              "    </tr>\n",
              "    <tr>\n",
              "      <th>2</th>\n",
              "      <td>4.2</td>\n",
              "      <td>70 mb</td>\n",
              "      <td>VGRD</td>\n",
              "      <td>6 hour fcst</td>\n",
              "      <td>V-Component of Wind [m/s]</td>\n",
              "    </tr>\n",
              "    <tr>\n",
              "      <th>3</th>\n",
              "      <td>5.0</td>\n",
              "      <td>100 mb</td>\n",
              "      <td>HGT</td>\n",
              "      <td>6 hour fcst</td>\n",
              "      <td>Geopotential Height [gpm]</td>\n",
              "    </tr>\n",
              "    <tr>\n",
              "      <th>4</th>\n",
              "      <td>6.0</td>\n",
              "      <td>100 mb</td>\n",
              "      <td>TMP</td>\n",
              "      <td>6 hour fcst</td>\n",
              "      <td>Temperature [K]</td>\n",
              "    </tr>\n",
              "  </tbody>\n",
              "</table>\n",
              "</div>\n",
              "      <button class=\"colab-df-convert\" onclick=\"convertToInteractive('df-77997582-0aed-4b68-958c-3573805c957a')\"\n",
              "              title=\"Convert this dataframe to an interactive table.\"\n",
              "              style=\"display:none;\">\n",
              "        \n",
              "  <svg xmlns=\"http://www.w3.org/2000/svg\" height=\"24px\"viewBox=\"0 0 24 24\"\n",
              "       width=\"24px\">\n",
              "    <path d=\"M0 0h24v24H0V0z\" fill=\"none\"/>\n",
              "    <path d=\"M18.56 5.44l.94 2.06.94-2.06 2.06-.94-2.06-.94-.94-2.06-.94 2.06-2.06.94zm-11 1L8.5 8.5l.94-2.06 2.06-.94-2.06-.94L8.5 2.5l-.94 2.06-2.06.94zm10 10l.94 2.06.94-2.06 2.06-.94-2.06-.94-.94-2.06-.94 2.06-2.06.94z\"/><path d=\"M17.41 7.96l-1.37-1.37c-.4-.4-.92-.59-1.43-.59-.52 0-1.04.2-1.43.59L10.3 9.45l-7.72 7.72c-.78.78-.78 2.05 0 2.83L4 21.41c.39.39.9.59 1.41.59.51 0 1.02-.2 1.41-.59l7.78-7.78 2.81-2.81c.8-.78.8-2.07 0-2.86zM5.41 20L4 18.59l7.72-7.72 1.47 1.35L5.41 20z\"/>\n",
              "  </svg>\n",
              "      </button>\n",
              "      \n",
              "  <style>\n",
              "    .colab-df-container {\n",
              "      display:flex;\n",
              "      flex-wrap:wrap;\n",
              "      gap: 12px;\n",
              "    }\n",
              "\n",
              "    .colab-df-convert {\n",
              "      background-color: #E8F0FE;\n",
              "      border: none;\n",
              "      border-radius: 50%;\n",
              "      cursor: pointer;\n",
              "      display: none;\n",
              "      fill: #1967D2;\n",
              "      height: 32px;\n",
              "      padding: 0 0 0 0;\n",
              "      width: 32px;\n",
              "    }\n",
              "\n",
              "    .colab-df-convert:hover {\n",
              "      background-color: #E2EBFA;\n",
              "      box-shadow: 0px 1px 2px rgba(60, 64, 67, 0.3), 0px 1px 3px 1px rgba(60, 64, 67, 0.15);\n",
              "      fill: #174EA6;\n",
              "    }\n",
              "\n",
              "    [theme=dark] .colab-df-convert {\n",
              "      background-color: #3B4455;\n",
              "      fill: #D2E3FC;\n",
              "    }\n",
              "\n",
              "    [theme=dark] .colab-df-convert:hover {\n",
              "      background-color: #434B5C;\n",
              "      box-shadow: 0px 1px 3px 1px rgba(0, 0, 0, 0.15);\n",
              "      filter: drop-shadow(0px 1px 2px rgba(0, 0, 0, 0.3));\n",
              "      fill: #FFFFFF;\n",
              "    }\n",
              "  </style>\n",
              "\n",
              "      <script>\n",
              "        const buttonEl =\n",
              "          document.querySelector('#df-77997582-0aed-4b68-958c-3573805c957a button.colab-df-convert');\n",
              "        buttonEl.style.display =\n",
              "          google.colab.kernel.accessAllowed ? 'block' : 'none';\n",
              "\n",
              "        async function convertToInteractive(key) {\n",
              "          const element = document.querySelector('#df-77997582-0aed-4b68-958c-3573805c957a');\n",
              "          const dataTable =\n",
              "            await google.colab.kernel.invokeFunction('convertToInteractive',\n",
              "                                                     [key], {});\n",
              "          if (!dataTable) return;\n",
              "\n",
              "          const docLinkHtml = 'Like what you see? Visit the ' +\n",
              "            '<a target=\"_blank\" href=https://colab.research.google.com/notebooks/data_table.ipynb>data table notebook</a>'\n",
              "            + ' to learn more about interactive tables.';\n",
              "          element.innerHTML = '';\n",
              "          dataTable['output_type'] = 'display_data';\n",
              "          await google.colab.output.renderOutput(dataTable, element);\n",
              "          const docLink = document.createElement('div');\n",
              "          docLink.innerHTML = docLinkHtml;\n",
              "          element.appendChild(docLink);\n",
              "        }\n",
              "      </script>\n",
              "    </div>\n",
              "  </div>\n",
              "  "
            ]
          },
          "metadata": {},
          "execution_count": 167
        }
      ]
    },
    {
      "cell_type": "code",
      "source": [
        "p6=f[f['HGT']=='APCP'] #Change column name as per demand\n"
      ],
      "metadata": {
        "id": "33L2GF55WUMk"
      },
      "execution_count": 168,
      "outputs": []
    },
    {
      "cell_type": "code",
      "source": [
        "p6.columns = ['Number', 'Level/Layer', 'Parameter', 'Forecast Valid', 'Description']"
      ],
      "metadata": {
        "id": "K1U8--pZX6wJ"
      },
      "execution_count": 169,
      "outputs": []
    },
    {
      "cell_type": "code",
      "source": [
        "p6"
      ],
      "metadata": {
        "colab": {
          "base_uri": "https://localhost:8080/",
          "height": 112
        },
        "id": "6JlWput6fGh7",
        "outputId": "ed720c6f-a9ba-4a2b-d7ed-acd16a3d0bb1"
      },
      "execution_count": 189,
      "outputs": [
        {
          "output_type": "execute_result",
          "data": {
            "text/plain": [
              "    Number Level/Layer Parameter Forecast Valid                   Description\n",
              "74    64.0     surface      APCP   0-6 hour acc  Total Precipitation [kg/m^2]\n",
              "75    65.0     surface      APCP   0-6 hour acc  Total Precipitation [kg/m^2]"
            ],
            "text/html": [
              "\n",
              "  <div id=\"df-aed6e2de-3f5d-40af-a361-93f197405dfb\">\n",
              "    <div class=\"colab-df-container\">\n",
              "      <div>\n",
              "<style scoped>\n",
              "    .dataframe tbody tr th:only-of-type {\n",
              "        vertical-align: middle;\n",
              "    }\n",
              "\n",
              "    .dataframe tbody tr th {\n",
              "        vertical-align: top;\n",
              "    }\n",
              "\n",
              "    .dataframe thead th {\n",
              "        text-align: right;\n",
              "    }\n",
              "</style>\n",
              "<table border=\"1\" class=\"dataframe\">\n",
              "  <thead>\n",
              "    <tr style=\"text-align: right;\">\n",
              "      <th></th>\n",
              "      <th>Number</th>\n",
              "      <th>Level/Layer</th>\n",
              "      <th>Parameter</th>\n",
              "      <th>Forecast Valid</th>\n",
              "      <th>Description</th>\n",
              "    </tr>\n",
              "  </thead>\n",
              "  <tbody>\n",
              "    <tr>\n",
              "      <th>74</th>\n",
              "      <td>64.0</td>\n",
              "      <td>surface</td>\n",
              "      <td>APCP</td>\n",
              "      <td>0-6 hour acc</td>\n",
              "      <td>Total Precipitation [kg/m^2]</td>\n",
              "    </tr>\n",
              "    <tr>\n",
              "      <th>75</th>\n",
              "      <td>65.0</td>\n",
              "      <td>surface</td>\n",
              "      <td>APCP</td>\n",
              "      <td>0-6 hour acc</td>\n",
              "      <td>Total Precipitation [kg/m^2]</td>\n",
              "    </tr>\n",
              "  </tbody>\n",
              "</table>\n",
              "</div>\n",
              "      <button class=\"colab-df-convert\" onclick=\"convertToInteractive('df-aed6e2de-3f5d-40af-a361-93f197405dfb')\"\n",
              "              title=\"Convert this dataframe to an interactive table.\"\n",
              "              style=\"display:none;\">\n",
              "        \n",
              "  <svg xmlns=\"http://www.w3.org/2000/svg\" height=\"24px\"viewBox=\"0 0 24 24\"\n",
              "       width=\"24px\">\n",
              "    <path d=\"M0 0h24v24H0V0z\" fill=\"none\"/>\n",
              "    <path d=\"M18.56 5.44l.94 2.06.94-2.06 2.06-.94-2.06-.94-.94-2.06-.94 2.06-2.06.94zm-11 1L8.5 8.5l.94-2.06 2.06-.94-2.06-.94L8.5 2.5l-.94 2.06-2.06.94zm10 10l.94 2.06.94-2.06 2.06-.94-2.06-.94-.94-2.06-.94 2.06-2.06.94z\"/><path d=\"M17.41 7.96l-1.37-1.37c-.4-.4-.92-.59-1.43-.59-.52 0-1.04.2-1.43.59L10.3 9.45l-7.72 7.72c-.78.78-.78 2.05 0 2.83L4 21.41c.39.39.9.59 1.41.59.51 0 1.02-.2 1.41-.59l7.78-7.78 2.81-2.81c.8-.78.8-2.07 0-2.86zM5.41 20L4 18.59l7.72-7.72 1.47 1.35L5.41 20z\"/>\n",
              "  </svg>\n",
              "      </button>\n",
              "      \n",
              "  <style>\n",
              "    .colab-df-container {\n",
              "      display:flex;\n",
              "      flex-wrap:wrap;\n",
              "      gap: 12px;\n",
              "    }\n",
              "\n",
              "    .colab-df-convert {\n",
              "      background-color: #E8F0FE;\n",
              "      border: none;\n",
              "      border-radius: 50%;\n",
              "      cursor: pointer;\n",
              "      display: none;\n",
              "      fill: #1967D2;\n",
              "      height: 32px;\n",
              "      padding: 0 0 0 0;\n",
              "      width: 32px;\n",
              "    }\n",
              "\n",
              "    .colab-df-convert:hover {\n",
              "      background-color: #E2EBFA;\n",
              "      box-shadow: 0px 1px 2px rgba(60, 64, 67, 0.3), 0px 1px 3px 1px rgba(60, 64, 67, 0.15);\n",
              "      fill: #174EA6;\n",
              "    }\n",
              "\n",
              "    [theme=dark] .colab-df-convert {\n",
              "      background-color: #3B4455;\n",
              "      fill: #D2E3FC;\n",
              "    }\n",
              "\n",
              "    [theme=dark] .colab-df-convert:hover {\n",
              "      background-color: #434B5C;\n",
              "      box-shadow: 0px 1px 3px 1px rgba(0, 0, 0, 0.15);\n",
              "      filter: drop-shadow(0px 1px 2px rgba(0, 0, 0, 0.3));\n",
              "      fill: #FFFFFF;\n",
              "    }\n",
              "  </style>\n",
              "\n",
              "      <script>\n",
              "        const buttonEl =\n",
              "          document.querySelector('#df-aed6e2de-3f5d-40af-a361-93f197405dfb button.colab-df-convert');\n",
              "        buttonEl.style.display =\n",
              "          google.colab.kernel.accessAllowed ? 'block' : 'none';\n",
              "\n",
              "        async function convertToInteractive(key) {\n",
              "          const element = document.querySelector('#df-aed6e2de-3f5d-40af-a361-93f197405dfb');\n",
              "          const dataTable =\n",
              "            await google.colab.kernel.invokeFunction('convertToInteractive',\n",
              "                                                     [key], {});\n",
              "          if (!dataTable) return;\n",
              "\n",
              "          const docLinkHtml = 'Like what you see? Visit the ' +\n",
              "            '<a target=\"_blank\" href=https://colab.research.google.com/notebooks/data_table.ipynb>data table notebook</a>'\n",
              "            + ' to learn more about interactive tables.';\n",
              "          element.innerHTML = '';\n",
              "          dataTable['output_type'] = 'display_data';\n",
              "          await google.colab.output.renderOutput(dataTable, element);\n",
              "          const docLink = document.createElement('div');\n",
              "          docLink.innerHTML = docLinkHtml;\n",
              "          element.appendChild(docLink);\n",
              "        }\n",
              "      </script>\n",
              "    </div>\n",
              "  </div>\n",
              "  "
            ]
          },
          "metadata": {},
          "execution_count": 189
        }
      ]
    },
    {
      "cell_type": "code",
      "source": [
        "p = pd.concat([p1, p2, p3, p5, p6])"
      ],
      "metadata": {
        "id": "hJkatFN4iWw1"
      },
      "execution_count": 177,
      "outputs": []
    },
    {
      "cell_type": "code",
      "source": [
        "p"
      ],
      "metadata": {
        "colab": {
          "base_uri": "https://localhost:8080/",
          "height": 363
        },
        "id": "xlLieJyPiqbt",
        "outputId": "50251a57-b363-4211-b0e4-2fa3815041be"
      },
      "execution_count": 191,
      "outputs": [
        {
          "output_type": "execute_result",
          "data": {
            "text/plain": [
              "     Number Level/Layer Parameter Forecast Valid                   Description\n",
              "593   596.0     surface      APCP   0-3 hour acc  Total Precipitation [kg/m^2]\n",
              "594   597.0     surface      APCP   0-3 hour acc  Total Precipitation [kg/m^2]\n",
              "593   596.0     surface      APCP   0-3 hour acc  Total Precipitation [kg/m^2]\n",
              "594   597.0     surface      APCP   0-3 hour acc  Total Precipitation [kg/m^2]\n",
              "593   596.0     surface      APCP   0-3 hour acc  Total Precipitation [kg/m^2]\n",
              "594   597.0     surface      APCP   0-3 hour acc  Total Precipitation [kg/m^2]\n",
              "74     64.0     surface      APCP   0-6 hour acc  Total Precipitation [kg/m^2]\n",
              "75     65.0     surface      APCP   0-6 hour acc  Total Precipitation [kg/m^2]\n",
              "74     64.0     surface      APCP   0-6 hour acc  Total Precipitation [kg/m^2]\n",
              "75     65.0     surface      APCP   0-6 hour acc  Total Precipitation [kg/m^2]"
            ],
            "text/html": [
              "\n",
              "  <div id=\"df-d536355e-d323-47cd-9bde-dc5cdf0f3a85\">\n",
              "    <div class=\"colab-df-container\">\n",
              "      <div>\n",
              "<style scoped>\n",
              "    .dataframe tbody tr th:only-of-type {\n",
              "        vertical-align: middle;\n",
              "    }\n",
              "\n",
              "    .dataframe tbody tr th {\n",
              "        vertical-align: top;\n",
              "    }\n",
              "\n",
              "    .dataframe thead th {\n",
              "        text-align: right;\n",
              "    }\n",
              "</style>\n",
              "<table border=\"1\" class=\"dataframe\">\n",
              "  <thead>\n",
              "    <tr style=\"text-align: right;\">\n",
              "      <th></th>\n",
              "      <th>Number</th>\n",
              "      <th>Level/Layer</th>\n",
              "      <th>Parameter</th>\n",
              "      <th>Forecast Valid</th>\n",
              "      <th>Description</th>\n",
              "    </tr>\n",
              "  </thead>\n",
              "  <tbody>\n",
              "    <tr>\n",
              "      <th>593</th>\n",
              "      <td>596.0</td>\n",
              "      <td>surface</td>\n",
              "      <td>APCP</td>\n",
              "      <td>0-3 hour acc</td>\n",
              "      <td>Total Precipitation [kg/m^2]</td>\n",
              "    </tr>\n",
              "    <tr>\n",
              "      <th>594</th>\n",
              "      <td>597.0</td>\n",
              "      <td>surface</td>\n",
              "      <td>APCP</td>\n",
              "      <td>0-3 hour acc</td>\n",
              "      <td>Total Precipitation [kg/m^2]</td>\n",
              "    </tr>\n",
              "    <tr>\n",
              "      <th>593</th>\n",
              "      <td>596.0</td>\n",
              "      <td>surface</td>\n",
              "      <td>APCP</td>\n",
              "      <td>0-3 hour acc</td>\n",
              "      <td>Total Precipitation [kg/m^2]</td>\n",
              "    </tr>\n",
              "    <tr>\n",
              "      <th>594</th>\n",
              "      <td>597.0</td>\n",
              "      <td>surface</td>\n",
              "      <td>APCP</td>\n",
              "      <td>0-3 hour acc</td>\n",
              "      <td>Total Precipitation [kg/m^2]</td>\n",
              "    </tr>\n",
              "    <tr>\n",
              "      <th>593</th>\n",
              "      <td>596.0</td>\n",
              "      <td>surface</td>\n",
              "      <td>APCP</td>\n",
              "      <td>0-3 hour acc</td>\n",
              "      <td>Total Precipitation [kg/m^2]</td>\n",
              "    </tr>\n",
              "    <tr>\n",
              "      <th>594</th>\n",
              "      <td>597.0</td>\n",
              "      <td>surface</td>\n",
              "      <td>APCP</td>\n",
              "      <td>0-3 hour acc</td>\n",
              "      <td>Total Precipitation [kg/m^2]</td>\n",
              "    </tr>\n",
              "    <tr>\n",
              "      <th>74</th>\n",
              "      <td>64.0</td>\n",
              "      <td>surface</td>\n",
              "      <td>APCP</td>\n",
              "      <td>0-6 hour acc</td>\n",
              "      <td>Total Precipitation [kg/m^2]</td>\n",
              "    </tr>\n",
              "    <tr>\n",
              "      <th>75</th>\n",
              "      <td>65.0</td>\n",
              "      <td>surface</td>\n",
              "      <td>APCP</td>\n",
              "      <td>0-6 hour acc</td>\n",
              "      <td>Total Precipitation [kg/m^2]</td>\n",
              "    </tr>\n",
              "    <tr>\n",
              "      <th>74</th>\n",
              "      <td>64.0</td>\n",
              "      <td>surface</td>\n",
              "      <td>APCP</td>\n",
              "      <td>0-6 hour acc</td>\n",
              "      <td>Total Precipitation [kg/m^2]</td>\n",
              "    </tr>\n",
              "    <tr>\n",
              "      <th>75</th>\n",
              "      <td>65.0</td>\n",
              "      <td>surface</td>\n",
              "      <td>APCP</td>\n",
              "      <td>0-6 hour acc</td>\n",
              "      <td>Total Precipitation [kg/m^2]</td>\n",
              "    </tr>\n",
              "  </tbody>\n",
              "</table>\n",
              "</div>\n",
              "      <button class=\"colab-df-convert\" onclick=\"convertToInteractive('df-d536355e-d323-47cd-9bde-dc5cdf0f3a85')\"\n",
              "              title=\"Convert this dataframe to an interactive table.\"\n",
              "              style=\"display:none;\">\n",
              "        \n",
              "  <svg xmlns=\"http://www.w3.org/2000/svg\" height=\"24px\"viewBox=\"0 0 24 24\"\n",
              "       width=\"24px\">\n",
              "    <path d=\"M0 0h24v24H0V0z\" fill=\"none\"/>\n",
              "    <path d=\"M18.56 5.44l.94 2.06.94-2.06 2.06-.94-2.06-.94-.94-2.06-.94 2.06-2.06.94zm-11 1L8.5 8.5l.94-2.06 2.06-.94-2.06-.94L8.5 2.5l-.94 2.06-2.06.94zm10 10l.94 2.06.94-2.06 2.06-.94-2.06-.94-.94-2.06-.94 2.06-2.06.94z\"/><path d=\"M17.41 7.96l-1.37-1.37c-.4-.4-.92-.59-1.43-.59-.52 0-1.04.2-1.43.59L10.3 9.45l-7.72 7.72c-.78.78-.78 2.05 0 2.83L4 21.41c.39.39.9.59 1.41.59.51 0 1.02-.2 1.41-.59l7.78-7.78 2.81-2.81c.8-.78.8-2.07 0-2.86zM5.41 20L4 18.59l7.72-7.72 1.47 1.35L5.41 20z\"/>\n",
              "  </svg>\n",
              "      </button>\n",
              "      \n",
              "  <style>\n",
              "    .colab-df-container {\n",
              "      display:flex;\n",
              "      flex-wrap:wrap;\n",
              "      gap: 12px;\n",
              "    }\n",
              "\n",
              "    .colab-df-convert {\n",
              "      background-color: #E8F0FE;\n",
              "      border: none;\n",
              "      border-radius: 50%;\n",
              "      cursor: pointer;\n",
              "      display: none;\n",
              "      fill: #1967D2;\n",
              "      height: 32px;\n",
              "      padding: 0 0 0 0;\n",
              "      width: 32px;\n",
              "    }\n",
              "\n",
              "    .colab-df-convert:hover {\n",
              "      background-color: #E2EBFA;\n",
              "      box-shadow: 0px 1px 2px rgba(60, 64, 67, 0.3), 0px 1px 3px 1px rgba(60, 64, 67, 0.15);\n",
              "      fill: #174EA6;\n",
              "    }\n",
              "\n",
              "    [theme=dark] .colab-df-convert {\n",
              "      background-color: #3B4455;\n",
              "      fill: #D2E3FC;\n",
              "    }\n",
              "\n",
              "    [theme=dark] .colab-df-convert:hover {\n",
              "      background-color: #434B5C;\n",
              "      box-shadow: 0px 1px 3px 1px rgba(0, 0, 0, 0.15);\n",
              "      filter: drop-shadow(0px 1px 2px rgba(0, 0, 0, 0.3));\n",
              "      fill: #FFFFFF;\n",
              "    }\n",
              "  </style>\n",
              "\n",
              "      <script>\n",
              "        const buttonEl =\n",
              "          document.querySelector('#df-d536355e-d323-47cd-9bde-dc5cdf0f3a85 button.colab-df-convert');\n",
              "        buttonEl.style.display =\n",
              "          google.colab.kernel.accessAllowed ? 'block' : 'none';\n",
              "\n",
              "        async function convertToInteractive(key) {\n",
              "          const element = document.querySelector('#df-d536355e-d323-47cd-9bde-dc5cdf0f3a85');\n",
              "          const dataTable =\n",
              "            await google.colab.kernel.invokeFunction('convertToInteractive',\n",
              "                                                     [key], {});\n",
              "          if (!dataTable) return;\n",
              "\n",
              "          const docLinkHtml = 'Like what you see? Visit the ' +\n",
              "            '<a target=\"_blank\" href=https://colab.research.google.com/notebooks/data_table.ipynb>data table notebook</a>'\n",
              "            + ' to learn more about interactive tables.';\n",
              "          element.innerHTML = '';\n",
              "          dataTable['output_type'] = 'display_data';\n",
              "          await google.colab.output.renderOutput(dataTable, element);\n",
              "          const docLink = document.createElement('div');\n",
              "          docLink.innerHTML = docLinkHtml;\n",
              "          element.appendChild(docLink);\n",
              "        }\n",
              "      </script>\n",
              "    </div>\n",
              "  </div>\n",
              "  "
            ]
          },
          "metadata": {},
          "execution_count": 191
        }
      ]
    },
    {
      "cell_type": "code",
      "source": [
        "a=np.array(p)"
      ],
      "metadata": {
        "id": "DVR1j_y6Jk4J"
      },
      "execution_count": 178,
      "outputs": []
    },
    {
      "cell_type": "code",
      "source": [
        "nc_file = netCDF4.Dataset('pf.nc', 'w', format='NETCDF4')"
      ],
      "metadata": {
        "id": "gg2nSsS4LPpc"
      },
      "execution_count": 179,
      "outputs": []
    },
    {
      "cell_type": "code",
      "source": [
        "nc_file.createDimension('record', a.shape[0])"
      ],
      "metadata": {
        "colab": {
          "base_uri": "https://localhost:8080/"
        },
        "id": "SC-XBSYKLbse",
        "outputId": "acc03776-c005-4cc3-8c96-29fd9e065a96"
      },
      "execution_count": 180,
      "outputs": [
        {
          "output_type": "execute_result",
          "data": {
            "text/plain": [
              "<class 'netCDF4._netCDF4.Dimension'>: name = 'record', size = 10"
            ]
          },
          "metadata": {},
          "execution_count": 180
        }
      ]
    },
    {
      "cell_type": "code",
      "source": [
        "id = nc_file.createVariable('id', np.int32, ('record',))\n",
        "surface = nc_file.createVariable('surface', np.str, ('record',))\n",
        "apcp = nc_file.createVariable('apcp', np.str, ('record',))\n",
        "hour_range = nc_file.createVariable('hour_range', np.str, ('record',))\n",
        "description = nc_file.createVariable('description', np.str, ('record',))"
      ],
      "metadata": {
        "colab": {
          "base_uri": "https://localhost:8080/"
        },
        "id": "BAPV9vHhLfNj",
        "outputId": "371f46c0-65cb-47bd-a458-26ad8dd94a43"
      },
      "execution_count": 181,
      "outputs": [
        {
          "output_type": "stream",
          "name": "stderr",
          "text": [
            "<ipython-input-181-d4e1f4b2ddc0>:2: DeprecationWarning: `np.str` is a deprecated alias for the builtin `str`. To silence this warning, use `str` by itself. Doing this will not modify any behavior and is safe. If you specifically wanted the numpy scalar type, use `np.str_` here.\n",
            "Deprecated in NumPy 1.20; for more details and guidance: https://numpy.org/devdocs/release/1.20.0-notes.html#deprecations\n",
            "  surface = nc_file.createVariable('surface', np.str, ('record',))\n",
            "<ipython-input-181-d4e1f4b2ddc0>:3: DeprecationWarning: `np.str` is a deprecated alias for the builtin `str`. To silence this warning, use `str` by itself. Doing this will not modify any behavior and is safe. If you specifically wanted the numpy scalar type, use `np.str_` here.\n",
            "Deprecated in NumPy 1.20; for more details and guidance: https://numpy.org/devdocs/release/1.20.0-notes.html#deprecations\n",
            "  apcp = nc_file.createVariable('apcp', np.str, ('record',))\n",
            "<ipython-input-181-d4e1f4b2ddc0>:4: DeprecationWarning: `np.str` is a deprecated alias for the builtin `str`. To silence this warning, use `str` by itself. Doing this will not modify any behavior and is safe. If you specifically wanted the numpy scalar type, use `np.str_` here.\n",
            "Deprecated in NumPy 1.20; for more details and guidance: https://numpy.org/devdocs/release/1.20.0-notes.html#deprecations\n",
            "  hour_range = nc_file.createVariable('hour_range', np.str, ('record',))\n",
            "<ipython-input-181-d4e1f4b2ddc0>:5: DeprecationWarning: `np.str` is a deprecated alias for the builtin `str`. To silence this warning, use `str` by itself. Doing this will not modify any behavior and is safe. If you specifically wanted the numpy scalar type, use `np.str_` here.\n",
            "Deprecated in NumPy 1.20; for more details and guidance: https://numpy.org/devdocs/release/1.20.0-notes.html#deprecations\n",
            "  description = nc_file.createVariable('description', np.str, ('record',))\n"
          ]
        }
      ]
    },
    {
      "cell_type": "code",
      "source": [
        "id[:] = a[:,0]\n",
        "surface[:] = a[:,1]\n",
        "apcp[:] = a[:,2]\n",
        "hour_range[:] = a[:,3]\n",
        "description[:] = a[:,4]"
      ],
      "metadata": {
        "id": "MkcVPtIlLoS1"
      },
      "execution_count": 182,
      "outputs": []
    },
    {
      "cell_type": "code",
      "source": [
        "nc_file.close()"
      ],
      "metadata": {
        "id": "sf7jd-xULsRE"
      },
      "execution_count": 183,
      "outputs": []
    }
  ]
}